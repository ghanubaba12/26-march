{
 "cells": [
  {
   "cell_type": "code",
   "execution_count": null,
   "id": "013065ae-ccba-4d2b-ba9b-8f88eca457ee",
   "metadata": {},
   "outputs": [],
   "source": [
    "Q1. Explain the difference between simple linear regression and multiple linear regression. Provide an\n",
    "example of each.\n",
    "ans-Simple linear regression is a statistical method that analyzes the relationship between two variables, where one is independent and the other is dependent. The objective of simple linear regression is to establish a linear relationship between the two variables, such that one variable (dependent variable) can be predicted based on the other variable (independent variable).\n",
    "\n",
    "On the other hand, multiple linear regression is a statistical method that analyzes the relationship between multiple independent variables and a dependent variable. Multiple linear regression can be used to analyze the impact of several independent variables on the dependent variable and establish a relationship between them.\n",
    "\n",
    "For example, consider a scenario where we want to predict the price of a house based on its area. In simple linear regression, we would analyze the relationship between the area of the house and its price. We would use the area of the house as the independent variable and the price of the house as the dependent variable.\n",
    "\n",
    "In multiple linear regression, we could analyze the relationship between the price of the house and several independent variables, such as the area of the house, the number of bedrooms, and the location of the house. In this case, we would use multiple independent variables to predict the price of the house.\n",
    "\n",
    "Overall, the main difference between simple and multiple linear regression is the number of independent variables used to predict the dependent variable. Simple linear regression uses one independent variable, while multiple linear regression uses two or more independent variables.\n",
    "\n",
    "\n",
    "\n",
    "\n"
   ]
  },
  {
   "cell_type": "code",
   "execution_count": null,
   "id": "6bc968d5-41b9-478e-af8d-08b463d80ed4",
   "metadata": {},
   "outputs": [],
   "source": [
    "Q2. Discuss the assumptions of linear regression. How can you check whether these assumptions hold in\n",
    "a given dataset?\n",
    "ans-\n",
    "Linear regression is a statistical method used to study the relationship between a dependent variable and one or more independent variables. The assumptions of linear regression are important to ensure that the results are valid and reliable.\n",
    "\n",
    "The main assumptions of linear regression are:\n",
    "\n",
    "Linearity: The relationship between the dependent and independent variables should be linear. This means that the slope of the regression line should remain constant throughout the range of the independent variable.\n",
    "\n",
    "Independence: The observations should be independent of each other. This means that there should be no relationship between the residuals or errors and the independent variables.\n",
    "\n",
    "Homoscedasticity: The variance of the errors or residuals should be constant across all levels of the independent variables. This means that the variability of the residuals should be the same for all values of the independent variables.\n",
    "\n",
    "Normality: The errors or residuals should follow a normal distribution. This means that the errors should be symmetrically distributed around zero and the majority of the errors should be close to zero.\n",
    "\n",
    "No multicollinearity: There should be no high correlation among the independent variables. Multicollinearity can lead to unstable estimates and it can be difficult to interpret the coefficients.\n",
    "\n",
    "To check whether these assumptions hold in a given dataset, several diagnostic tests can be performed. Some of the common diagnostic tests are:\n",
    "\n",
    "Scatterplots: Scatterplots can be used to visually inspect the linearity assumption. If the relationship between the dependent and independent variables is linear, the points on the scatterplot should follow a straight line.\n",
    "\n",
    "Residual plots: Residual plots can be used to check the assumptions of independence, homoscedasticity, and normality. If the residuals are randomly scattered around zero, the independence and homoscedasticity assumptions are met. If the residuals follow a normal distribution, the normality assumption is met.\n",
    "\n",
    "Variance inflation factor (VIF): VIF can be used to check the multicollinearity assumption. If the VIF values are less than 10, it indicates that there is no significant multicollinearity among the independent variables.\n",
    "\n",
    "Durbin-Watson test: Durbin-Watson test can be used to check the independence assumption. If the test statistic is close to 2, it indicates that there is no autocorrelation among the residuals.\n",
    "\n",
    "In summary, checking the assumptions of linear regression is important to ensure that the results are valid and reliable. Diagnostic tests can be performed to check whether the assumptions hold in a given dataset.\n",
    "\n",
    "\n",
    "\n",
    "\n"
   ]
  },
  {
   "cell_type": "code",
   "execution_count": null,
   "id": "dfb318b1-22f4-4ec5-b3bf-d362715ba6c0",
   "metadata": {},
   "outputs": [],
   "source": [
    "Q3. How do you interpret the slope and intercept in a linear regression model? Provide an example using\n",
    "a real-world scenario.\n",
    "ans-In a linear regression model, the slope and intercept coefficients help to describe the relationship between the independent and dependent variables.\n",
    "\n",
    "The intercept is the value of the dependent variable when the independent variable is equal to zero. The intercept is also referred to as the constant term, and it represents the value of the dependent variable that is not explained by the independent variable(s).\n",
    "\n",
    "The slope represents the change in the dependent variable for a unit change in the independent variable. The slope is also referred to as the regression coefficient, and it indicates the strength and direction of the relationship between the independent and dependent variables.\n",
    "\n",
    "For example, consider a real-world scenario where we want to predict the weight of a person based on their height. A simple linear regression model may be used to model this relationship. In this case, the intercept would represent the weight of a person when their height is zero, which is not a meaningful interpretation.\n",
    "\n",
    "However, the slope coefficient would be more meaningful in this case. For instance, if the slope coefficient is 2, it means that for every unit increase in height (in meters), the weight of a person increases by 2 kilograms on average. Therefore, the slope coefficient provides information about the direction and magnitude of the relationship between height and weight.\n",
    "\n",
    "Overall, the interpretation of the slope and intercept coefficients in a linear regression model depends on the specific context and the variables being analyzed. It is essential to interpret the coefficients in a meaningful way that relates to the research question or problem being addressed.\n",
    "\n",
    "\n",
    "\n",
    "\n"
   ]
  },
  {
   "cell_type": "code",
   "execution_count": null,
   "id": "1972fe3f-940a-482c-9fd3-85ac9030cb99",
   "metadata": {},
   "outputs": [],
   "source": [
    "Q4. Explain the concept of gradient descent. How is it used in machine learning?\n",
    "ans-\n"
   ]
  },
  {
   "cell_type": "code",
   "execution_count": null,
   "id": "bfc38623-e630-4c0c-87d8-1ef1e5c4d1b5",
   "metadata": {},
   "outputs": [],
   "source": [
    "Q5. Describe the multiple linear regression model. How does it differ from simple linear regression?\n",
    "ans-"
   ]
  },
  {
   "cell_type": "code",
   "execution_count": null,
   "id": "ee726e52-62b0-49c8-af73-22b62e4949b6",
   "metadata": {},
   "outputs": [],
   "source": []
  },
  {
   "cell_type": "code",
   "execution_count": null,
   "id": "0925fb36-b459-4f4e-b41f-212cb79dd287",
   "metadata": {},
   "outputs": [],
   "source": []
  },
  {
   "cell_type": "code",
   "execution_count": null,
   "id": "4a318edd-185a-49d9-83c6-e678223e2402",
   "metadata": {},
   "outputs": [],
   "source": []
  }
 ],
 "metadata": {
  "kernelspec": {
   "display_name": "Python 3 (ipykernel)",
   "language": "python",
   "name": "python3"
  },
  "language_info": {
   "codemirror_mode": {
    "name": "ipython",
    "version": 3
   },
   "file_extension": ".py",
   "mimetype": "text/x-python",
   "name": "python",
   "nbconvert_exporter": "python",
   "pygments_lexer": "ipython3",
   "version": "3.10.8"
  }
 },
 "nbformat": 4,
 "nbformat_minor": 5
}
